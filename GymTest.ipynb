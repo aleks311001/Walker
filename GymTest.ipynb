{
 "cells": [
  {
   "cell_type": "code",
   "execution_count": 1,
   "id": "7db2aa1f",
   "metadata": {
    "ExecuteTime": {
     "end_time": "2022-07-08T09:48:22.308329Z",
     "start_time": "2022-07-08T09:48:21.673656Z"
    }
   },
   "outputs": [],
   "source": [
    "import numpy as np\n",
    "import pandas as pd\n",
    "import scipy.stats as sps\n",
    "\n",
    "import matplotlib.pyplot as plt\n",
    "import seaborn as sns\n",
    "import plotly.express as px\n",
    "import plotly.graph_objects as go\n",
    "import plotly\n",
    "\n",
    "from tqdm.auto import tqdm\n",
    "\n",
    "%matplotlib inline\n",
    "%config InlineBackend.figure_format = 'svg'\n",
    "sns.set(font_scale=1.3, style='darkgrid', palette='Set2')"
   ]
  },
  {
   "cell_type": "code",
   "execution_count": 2,
   "id": "4c7d8763",
   "metadata": {
    "ExecuteTime": {
     "end_time": "2022-07-08T09:48:23.571766Z",
     "start_time": "2022-07-08T09:48:23.382685Z"
    }
   },
   "outputs": [],
   "source": [
    "import gym"
   ]
  },
  {
   "cell_type": "code",
   "execution_count": 33,
   "id": "d1caf7b4",
   "metadata": {
    "ExecuteTime": {
     "end_time": "2022-07-08T10:31:16.209852Z",
     "start_time": "2022-07-08T10:31:16.199973Z"
    }
   },
   "outputs": [
    {
     "data": {
      "text/plain": [
       "array([-0.4, -0.4, -0.4, -0.4, -0.4, -0.4, -0.4, -0.4, -0.4, -0.4, -0.4,\n",
       "       -0.4, -0.4, -0.4, -0.4, -0.4, -0.4])"
      ]
     },
     "execution_count": 33,
     "metadata": {},
     "output_type": "execute_result"
    }
   ],
   "source": [
    "action = -np.ones(17) * 0.4\n",
    "# action[6] = 0.4\n",
    "# action[7] = 0.4\n",
    "# action[8] = 0.4\n",
    "# action[9] = 0.4\n",
    "action"
   ]
  },
  {
   "cell_type": "code",
   "execution_count": 34,
   "id": "9caae335",
   "metadata": {
    "ExecuteTime": {
     "end_time": "2022-07-08T10:31:27.345554Z",
     "start_time": "2022-07-08T10:31:19.522297Z"
    }
   },
   "outputs": [
    {
     "name": "stderr",
     "output_type": "stream",
     "text": [
      "/Users/aleks311001/mambaforge/envs/neuro/lib/python3.10/site-packages/gym/utils/passive_env_checker.py:69: UserWarning: \u001b[33mWARN: Agent's minimum action space value is -infinity. This is probably too low.\u001b[0m\n",
      "  logger.warn(\n",
      "/Users/aleks311001/mambaforge/envs/neuro/lib/python3.10/site-packages/gym/utils/passive_env_checker.py:73: UserWarning: \u001b[33mWARN: Agent's maximum action space value is infinity. This is probably too high\u001b[0m\n",
      "  logger.warn(\n",
      "/Users/aleks311001/mambaforge/envs/neuro/lib/python3.10/site-packages/gym/utils/passive_env_checker.py:97: UserWarning: \u001b[33mWARN: We recommend you to use a symmetric and normalized Box action space (range=[-1, 1]) https://stable-baselines3.readthedocs.io/en/master/guide/rl_tips.html\u001b[0m\n",
      "  logger.warn(\n"
     ]
    },
    {
     "ename": "SystemExit",
     "evalue": "0",
     "output_type": "error",
     "traceback": [
      "An exception has occurred, use %tb to see the full traceback.\n",
      "\u001b[0;31mSystemExit\u001b[0m\u001b[0;31m:\u001b[0m 0\n"
     ]
    },
    {
     "name": "stderr",
     "output_type": "stream",
     "text": [
      "/Users/aleks311001/mambaforge/envs/neuro/lib/python3.10/site-packages/IPython/core/interactiveshell.py:3406: UserWarning: To exit: use 'exit', 'quit', or Ctrl-D.\n",
      "  warn(\"To exit: use 'exit', 'quit', or Ctrl-D.\", stacklevel=1)\n"
     ]
    }
   ],
   "source": [
    "env = gym.make('Humanoid-v4', ctrl_cost_weight=0.1)\n",
    "env.reset()\n",
    "# Rendering our instance 300 times\n",
    "for _ in range(500):\n",
    "    #renders the environment\n",
    "    env.render()\n",
    "    #Takes a random action from its action space \n",
    "    # aka the number of unique actions an agent can perform\n",
    "#     action = env.action_space.sample()\n",
    "#     print(action)\n",
    "    env.step(action)\n",
    "env.close()"
   ]
  },
  {
   "cell_type": "code",
   "execution_count": 4,
   "id": "59aebe12",
   "metadata": {
    "ExecuteTime": {
     "end_time": "2022-07-08T09:31:52.055913Z",
     "start_time": "2022-07-08T09:31:40.079014Z"
    }
   },
   "outputs": [
    {
     "name": "stdout",
     "output_type": "stream",
     "text": [
      "Episode finished after 36 timesteps\n",
      "Episode finished after 24 timesteps\n",
      "Episode finished after 24 timesteps\n",
      "Episode finished after 26 timesteps\n",
      "Episode finished after 18 timesteps\n",
      "Episode finished after 19 timesteps\n",
      "Episode finished after 25 timesteps\n",
      "Episode finished after 32 timesteps\n",
      "Episode finished after 19 timesteps\n",
      "Episode finished after 19 timesteps\n",
      "Episode finished after 20 timesteps\n",
      "Episode finished after 26 timesteps\n",
      "Episode finished after 28 timesteps\n",
      "Episode finished after 19 timesteps\n",
      "Episode finished after 21 timesteps\n",
      "Episode finished after 27 timesteps\n",
      "Episode finished after 21 timesteps\n",
      "Episode finished after 17 timesteps\n",
      "Episode finished after 17 timesteps\n",
      "Episode finished after 29 timesteps\n",
      "Episode finished after 25 timesteps\n",
      "Episode finished after 22 timesteps\n",
      "Episode finished after 19 timesteps\n",
      "Episode finished after 19 timesteps\n",
      "Episode finished after 27 timesteps\n",
      "Episode finished after 21 timesteps\n",
      "Episode finished after 21 timesteps\n",
      "Episode finished after 22 timesteps\n",
      "Episode finished after 23 timesteps\n",
      "Episode finished after 23 timesteps\n"
     ]
    },
    {
     "ename": "SystemExit",
     "evalue": "0",
     "output_type": "error",
     "traceback": [
      "An exception has occurred, use %tb to see the full traceback.\n",
      "\u001b[0;31mSystemExit\u001b[0m\u001b[0;31m:\u001b[0m 0\n"
     ]
    }
   ],
   "source": [
    "env = gym.make('Humanoid-v4', ctrl_cost_weight=0.1)\n",
    "for i_episode in range(30):\n",
    "    observation = env.reset()\n",
    "    for t in range(100):\n",
    "        env.render()\n",
    "        #printing the observation space\n",
    "#         print(observation) \n",
    "        #storing the number of possible actions\n",
    "        action = env.action_space.sample() \n",
    "        observation, reward, done, info = env.step(action)\n",
    "        if done:\n",
    "            print(\"Episode finished after {} timesteps\".format(t+1))\n",
    "            break\n",
    "env.close()"
   ]
  },
  {
   "cell_type": "code",
   "execution_count": null,
   "id": "67c0b998",
   "metadata": {},
   "outputs": [],
   "source": []
  }
 ],
 "metadata": {
  "kernelspec": {
   "display_name": "Python 3 (ipykernel)",
   "language": "python",
   "name": "python3"
  },
  "language_info": {
   "codemirror_mode": {
    "name": "ipython",
    "version": 3
   },
   "file_extension": ".py",
   "mimetype": "text/x-python",
   "name": "python",
   "nbconvert_exporter": "python",
   "pygments_lexer": "ipython3",
   "version": "3.10.5"
  },
  "varInspector": {
   "cols": {
    "lenName": 16,
    "lenType": 16,
    "lenVar": 40
   },
   "kernels_config": {
    "python": {
     "delete_cmd_postfix": "",
     "delete_cmd_prefix": "del ",
     "library": "var_list.py",
     "varRefreshCmd": "print(var_dic_list())"
    },
    "r": {
     "delete_cmd_postfix": ") ",
     "delete_cmd_prefix": "rm(",
     "library": "var_list.r",
     "varRefreshCmd": "cat(var_dic_list()) "
    }
   },
   "types_to_exclude": [
    "module",
    "function",
    "builtin_function_or_method",
    "instance",
    "_Feature"
   ],
   "window_display": false
  }
 },
 "nbformat": 4,
 "nbformat_minor": 5
}
