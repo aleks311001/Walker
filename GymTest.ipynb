{
 "cells": [
  {
   "cell_type": "code",
   "execution_count": 1,
   "id": "7db2aa1f",
   "metadata": {
    "ExecuteTime": {
     "end_time": "2022-07-11T08:03:23.485843Z",
     "start_time": "2022-07-11T08:03:22.792359Z"
    }
   },
   "outputs": [],
   "source": [
    "import numpy as np\n",
    "import pandas as pd\n",
    "import scipy.stats as sps\n",
    "\n",
    "import matplotlib.pyplot as plt\n",
    "import seaborn as sns\n",
    "\n",
    "from tqdm.auto import tqdm\n",
    "\n",
    "%matplotlib inline\n",
    "%config InlineBackend.figure_format = 'svg'\n",
    "sns.set(font_scale=1.3, style='darkgrid', palette='Set2')"
   ]
  },
  {
   "cell_type": "code",
   "execution_count": 2,
   "id": "4c7d8763",
   "metadata": {
    "ExecuteTime": {
     "end_time": "2022-07-11T08:03:23.914489Z",
     "start_time": "2022-07-11T08:03:23.762384Z"
    }
   },
   "outputs": [],
   "source": [
    "import gym"
   ]
  },
  {
   "cell_type": "code",
   "execution_count": 6,
   "id": "9fca739f",
   "metadata": {
    "ExecuteTime": {
     "end_time": "2022-07-11T08:03:49.326539Z",
     "start_time": "2022-07-11T08:03:49.320883Z"
    }
   },
   "outputs": [
    {
     "data": {
      "text/plain": [
       "array([1., 1., 1., 1.])"
      ]
     },
     "execution_count": 6,
     "metadata": {},
     "output_type": "execute_result"
    }
   ],
   "source": [
    "action = np.ones(4) * 1\n",
    "# action[:9] *= -1\n",
    "# action[6] = 0.4\n",
    "# action[7] = 0.4\n",
    "# action[8] = 0.4\n",
    "# action[9] = 0.4\n",
    "action"
   ]
  },
  {
   "cell_type": "code",
   "execution_count": 8,
   "id": "9caae335",
   "metadata": {
    "ExecuteTime": {
     "end_time": "2022-07-11T08:09:09.870507Z",
     "start_time": "2022-07-11T08:08:59.146695Z"
    }
   },
   "outputs": [],
   "source": [
    "# env = gym.make('Humanoid-v4', ctrl_cost_weight=0.1)\n",
    "env = gym.make('BipedalWalker-v3')\n",
    "env.reset()\n",
    "# Rendering our instance 300 times\n",
    "for _ in range(500):\n",
    "    #renders the environment\n",
    "    env.render()\n",
    "    #Takes a random action from its action space \n",
    "    # aka the number of unique actions an agent can perform\n",
    "#     action = env.action_space.sample()\n",
    "#     print(action)\n",
    "    space = env.step(action)\n",
    "env.close()"
   ]
  },
  {
   "cell_type": "code",
   "execution_count": 10,
   "id": "cdfbc330",
   "metadata": {
    "ExecuteTime": {
     "end_time": "2022-07-11T08:10:08.185515Z",
     "start_time": "2022-07-11T08:10:08.174874Z"
    }
   },
   "outputs": [
    {
     "data": {
      "text/plain": [
       "(24,)"
      ]
     },
     "execution_count": 10,
     "metadata": {},
     "output_type": "execute_result"
    }
   ],
   "source": [
    "space[0].shape"
   ]
  },
  {
   "cell_type": "code",
   "execution_count": 11,
   "id": "f9205cc3",
   "metadata": {
    "ExecuteTime": {
     "end_time": "2022-07-11T08:10:17.136886Z",
     "start_time": "2022-07-11T08:10:17.134177Z"
    }
   },
   "outputs": [
    {
     "data": {
      "text/plain": [
       "(array([-3.1435354e+00, -1.8720059e-10,  1.7739921e-10,  2.2626225e-10,\n",
       "         1.1340201e+00,  4.5519144e-15,  9.3475413e-01,  0.0000000e+00,\n",
       "         0.0000000e+00,  1.1340542e+00, -1.1102230e-16,  9.3473721e-01,\n",
       "        -3.4786989e-15,  0.0000000e+00,  5.9874907e-02,  6.0554873e-02,\n",
       "         6.2674150e-02,  6.6494644e-02,  7.2546132e-02,  8.1831105e-02,\n",
       "         9.6322306e-02,  1.2033439e-01,  1.6523698e-01,  2.7339303e-01],\n",
       "       dtype=float32),\n",
       " -100,\n",
       " True,\n",
       " {})"
      ]
     },
     "execution_count": 11,
     "metadata": {},
     "output_type": "execute_result"
    }
   ],
   "source": [
    "space"
   ]
  },
  {
   "cell_type": "code",
   "execution_count": 27,
   "id": "1a983f08",
   "metadata": {
    "ExecuteTime": {
     "end_time": "2022-07-08T10:53:24.610052Z",
     "start_time": "2022-07-08T10:53:13.637832Z"
    }
   },
   "outputs": [
    {
     "name": "stderr",
     "output_type": "stream",
     "text": [
      "/Users/aleks311001/mambaforge/envs/neuro/lib/python3.10/site-packages/gym/utils/passive_env_checker.py:69: UserWarning: \u001b[33mWARN: Agent's minimum action space value is -infinity. This is probably too low.\u001b[0m\n",
      "  logger.warn(\n",
      "/Users/aleks311001/mambaforge/envs/neuro/lib/python3.10/site-packages/gym/utils/passive_env_checker.py:73: UserWarning: \u001b[33mWARN: Agent's maximum action space value is infinity. This is probably too high\u001b[0m\n",
      "  logger.warn(\n",
      "/Users/aleks311001/mambaforge/envs/neuro/lib/python3.10/site-packages/gym/utils/passive_env_checker.py:97: UserWarning: \u001b[33mWARN: We recommend you to use a symmetric and normalized Box action space (range=[-1, 1]) https://stable-baselines3.readthedocs.io/en/master/guide/rl_tips.html\u001b[0m\n",
      "  logger.warn(\n"
     ]
    },
    {
     "name": "stdout",
     "output_type": "stream",
     "text": [
      "Episode finished after 27 timesteps\n",
      "Episode finished after 31 timesteps\n",
      "Episode finished after 18 timesteps\n",
      "Episode finished after 18 timesteps\n",
      "Episode finished after 18 timesteps\n",
      "Episode finished after 33 timesteps\n",
      "Episode finished after 34 timesteps\n",
      "Episode finished after 17 timesteps\n",
      "Episode finished after 20 timesteps\n",
      "Episode finished after 17 timesteps\n",
      "Episode finished after 22 timesteps\n",
      "Episode finished after 20 timesteps\n",
      "Episode finished after 23 timesteps\n",
      "Episode finished after 19 timesteps\n",
      "Episode finished after 18 timesteps\n",
      "Episode finished after 24 timesteps\n",
      "Episode finished after 34 timesteps\n",
      "Episode finished after 18 timesteps\n",
      "Episode finished after 21 timesteps\n",
      "Episode finished after 16 timesteps\n",
      "Episode finished after 17 timesteps\n",
      "Episode finished after 19 timesteps\n",
      "Episode finished after 28 timesteps\n",
      "Episode finished after 29 timesteps\n",
      "Episode finished after 21 timesteps\n",
      "Episode finished after 25 timesteps\n",
      "Episode finished after 20 timesteps\n",
      "Episode finished after 31 timesteps\n",
      "Episode finished after 23 timesteps\n",
      "Episode finished after 26 timesteps\n"
     ]
    },
    {
     "ename": "SystemExit",
     "evalue": "0",
     "output_type": "error",
     "traceback": [
      "An exception has occurred, use %tb to see the full traceback.\n",
      "\u001b[0;31mSystemExit\u001b[0m\u001b[0;31m:\u001b[0m 0\n"
     ]
    },
    {
     "name": "stderr",
     "output_type": "stream",
     "text": [
      "/Users/aleks311001/mambaforge/envs/neuro/lib/python3.10/site-packages/IPython/core/interactiveshell.py:3406: UserWarning: To exit: use 'exit', 'quit', or Ctrl-D.\n",
      "  warn(\"To exit: use 'exit', 'quit', or Ctrl-D.\", stacklevel=1)\n"
     ]
    }
   ],
   "source": [
    "env = gym.make('Humanoid-v4', ctrl_cost_weight=0.1)\n",
    "for i_episode in range(30):\n",
    "    observation = env.reset()\n",
    "    for t in range(100):\n",
    "        env.render()\n",
    "        #printing the observation space\n",
    "#         print(observation) \n",
    "        #storing the number of possible actions\n",
    "        action = env.action_space.sample() \n",
    "        observation, reward, done, info = env.step(action)\n",
    "        if done:\n",
    "            print(\"Episode finished after {} timesteps\".format(t+1))\n",
    "            break\n",
    "env.close()"
   ]
  },
  {
   "cell_type": "code",
   "execution_count": null,
   "id": "28656b12",
   "metadata": {},
   "outputs": [],
   "source": []
  }
 ],
 "metadata": {
  "kernelspec": {
   "display_name": "Python 3 (ipykernel)",
   "language": "python",
   "name": "python3"
  },
  "language_info": {
   "codemirror_mode": {
    "name": "ipython",
    "version": 3
   },
   "file_extension": ".py",
   "mimetype": "text/x-python",
   "name": "python",
   "nbconvert_exporter": "python",
   "pygments_lexer": "ipython3",
   "version": "3.10.5"
  },
  "varInspector": {
   "cols": {
    "lenName": 16,
    "lenType": 16,
    "lenVar": 40
   },
   "kernels_config": {
    "python": {
     "delete_cmd_postfix": "",
     "delete_cmd_prefix": "del ",
     "library": "var_list.py",
     "varRefreshCmd": "print(var_dic_list())"
    },
    "r": {
     "delete_cmd_postfix": ") ",
     "delete_cmd_prefix": "rm(",
     "library": "var_list.r",
     "varRefreshCmd": "cat(var_dic_list()) "
    }
   },
   "types_to_exclude": [
    "module",
    "function",
    "builtin_function_or_method",
    "instance",
    "_Feature"
   ],
   "window_display": false
  }
 },
 "nbformat": 4,
 "nbformat_minor": 5
}
