{
 "cells": [
  {
   "cell_type": "code",
   "execution_count": 1,
   "id": "5d5a2f13",
   "metadata": {
    "ExecuteTime": {
     "end_time": "2022-07-15T12:11:45.033675Z",
     "start_time": "2022-07-15T12:11:44.288156Z"
    }
   },
   "outputs": [],
   "source": [
    "import numpy as np\n",
    "import pandas as pd\n",
    "import scipy.stats as sps\n",
    "\n",
    "import matplotlib.pyplot as plt\n",
    "import seaborn as sns\n",
    "\n",
    "from tqdm.auto import tqdm\n",
    "\n",
    "%matplotlib inline\n",
    "%config InlineBackend.figure_format = 'svg'\n",
    "sns.set(font_scale=1.3, style='darkgrid', palette='Set2')"
   ]
  },
  {
   "cell_type": "code",
   "execution_count": 3,
   "id": "6d2d6fa0",
   "metadata": {
    "ExecuteTime": {
     "end_time": "2022-07-15T12:12:59.643784Z",
     "start_time": "2022-07-15T12:12:59.641545Z"
    }
   },
   "outputs": [],
   "source": [
    "from enum import Enum\n",
    "from collections import defaultdict\n",
    "\n",
    "import brian2 as b2\n",
    "import gym\n",
    "from scipy.optimize import differential_evolution\n",
    "\n",
    "from Walker import *\n",
    "\n",
    "from warnings import filterwarnings\n",
    "filterwarnings(action='ignore', category=DeprecationWarning, module='.*brian2.*')\n",
    "filterwarnings(action='ignore', category=UserWarning, \n",
    "               message='.*WARN: We recommend you to use a symmetric and normalized Box action space.*')"
   ]
  },
  {
   "cell_type": "code",
   "execution_count": null,
   "id": "5ac5b393",
   "metadata": {},
   "outputs": [],
   "source": [
    "params0 = [-0.607, -0.311, -1.649, -1.934, # w1-w8\n",
    "           0.285, 0.143, 0.302, 0.151,     # tau\n",
    "           0.124, 0.770,                   # a\n",
    "           0.805, 3.078, -2.120]           # u0, b, w\n",
    "\n",
    "#         w1-w8                         tau\n",
    "bounds = [(-4, 0) for _ in range(4)] + [(0.025, 1) for _ in range(4)] +\\\n",
    "         [(0.025, 1.5) for _ in range(2)] + [(0, 2), (0, 4), (-4, 0)]\n",
    "#         a                                   u0      b       w\n",
    "\n",
    "n_iter = 10\n",
    "pbar = tqdm(total=n_iter)\n",
    "\n",
    "def callback(x, convergence):\n",
    "    print(f'params = {x}; convergence = {convergence}\\n')\n",
    "    pbar.update(1)\n",
    "\n",
    "res = differential_evolution(calc_reward, bounds, maxiter=n_iter, callback=callback,\n",
    "                             disp=True, x0=params0, updating='deferred', workers=-1)\n",
    "pbar.close()"
   ]
  },
  {
   "cell_type": "code",
   "execution_count": null,
   "id": "6c057304",
   "metadata": {},
   "outputs": [],
   "source": [
    "env = gym.make('BipedalWalker-v3')\n",
    "c = make_controller(res.x)\n",
    "observation = env.reset()\n",
    "\n",
    "for _ in range(250):\n",
    "    y = c.step(observation)\n",
    "    action = np.array([y[Side.LEFT][Joint.HIP], y[Side.LEFT][Joint.KNEE], \n",
    "                       y[Side.RIGHT][Joint.HIP], y[Side.RIGHT][Joint.KNEE]])\n",
    "    action = np.clip(action, -1, 1)\n",
    "#     print(action)\n",
    "    observation, reward, done, _ = env.step(action)\n",
    "#     print(done, info)\n",
    "#     print(reward)\n",
    "    env.render()\n",
    "\n",
    "env.close()"
   ]
  },
  {
   "cell_type": "code",
   "execution_count": null,
   "id": "9f7a6a4f",
   "metadata": {},
   "outputs": [],
   "source": [
    "plot_all(c)"
   ]
  }
 ],
 "metadata": {
  "kernelspec": {
   "display_name": "Python 3 (ipykernel)",
   "language": "python",
   "name": "python3"
  },
  "language_info": {
   "codemirror_mode": {
    "name": "ipython",
    "version": 3
   },
   "file_extension": ".py",
   "mimetype": "text/x-python",
   "name": "python",
   "nbconvert_exporter": "python",
   "pygments_lexer": "ipython3",
   "version": "3.10.5"
  },
  "varInspector": {
   "cols": {
    "lenName": 16,
    "lenType": 16,
    "lenVar": 40
   },
   "kernels_config": {
    "python": {
     "delete_cmd_postfix": "",
     "delete_cmd_prefix": "del ",
     "library": "var_list.py",
     "varRefreshCmd": "print(var_dic_list())"
    },
    "r": {
     "delete_cmd_postfix": ") ",
     "delete_cmd_prefix": "rm(",
     "library": "var_list.r",
     "varRefreshCmd": "cat(var_dic_list()) "
    }
   },
   "types_to_exclude": [
    "module",
    "function",
    "builtin_function_or_method",
    "instance",
    "_Feature"
   ],
   "window_display": false
  }
 },
 "nbformat": 4,
 "nbformat_minor": 5
}
